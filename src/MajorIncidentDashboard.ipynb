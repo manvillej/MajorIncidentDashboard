{
 "cells": [
  {
   "cell_type": "code",
   "execution_count": 1,
   "id": "c283dcc2-586d-4763-a49c-c401c772b3b2",
   "metadata": {
    "tags": []
   },
   "outputs": [],
   "source": [
    "from ServiceNowData import ServiceNowHTTPXClient\n",
    "\n",
    "import pandas as pd\n",
    "import numpy as np\n",
    "import matplotlib.pyplot as plt\n",
    "from IPython.display import display"
   ]
  },
  {
   "cell_type": "code",
   "execution_count": 2,
   "id": "f0a8ef17-763e-4619-939f-f18ce027b8af",
   "metadata": {
    "tags": []
   },
   "outputs": [],
   "source": [
    "#client = ServiceNowHTTPXClient()\n",
    "#response = client.healthCheck() # always run to make sure the instance is awake"
   ]
  },
  {
   "cell_type": "code",
   "execution_count": 4,
   "id": "4adc1ac5-f037-4bb9-8251-e1e4422bd772",
   "metadata": {
    "tags": []
   },
   "outputs": [
    {
     "data": {
      "text/plain": [
       "\"response = client.getData('incident','major_incident_state=accepted', {\\n    'sysparm_display_value':True,\\n    'sysparm_exclude_reference_link':True,\\n    'sysparm_fields':'number,resolved_by,short_description,description,priority,impact,urgency,closed_by,close_notes,state,category,major_incident_state'\\n    })\""
      ]
     },
     "execution_count": 4,
     "metadata": {},
     "output_type": "execute_result"
    }
   ],
   "source": [
    "# grab our major incident data\n",
    "\"\"\"response = client.getData('incident','major_incident_state=accepted', {\n",
    "    'sysparm_display_value':True,\n",
    "    'sysparm_exclude_reference_link':True,\n",
    "    'sysparm_fields':'number,resolved_by,short_description,description,priority,impact,urgency,closed_by,close_notes,state,category,major_incident_state'\n",
    "    })\"\"\"\n",
    "\n",
    "#data = response.json()['result']\n",
    "#df = pd.DataFrame(data)\n",
    "#df.head(5)"
   ]
  },
  {
   "cell_type": "code",
   "execution_count": 5,
   "id": "edfd778f-5884-4eb3-98fb-f20aeae2432d",
   "metadata": {
    "tags": []
   },
   "outputs": [
    {
     "name": "stdout",
     "output_type": "stream",
     "text": [
      "mean: 22.961560813445683\n",
      "max: 82.48133311077451\n",
      "min: 2.9389869113554714\n",
      "std: 20.596055726530945\n"
     ]
    },
    {
     "data": {
      "text/plain": [
       "DatetimeIndex(['2023-05-09 07:05:08.009520268',\n",
       "               '2023-04-02 10:09:56.406904715',\n",
       "               '2023-03-29 12:20:02.968396071',\n",
       "               '2023-03-10 19:28:10.467709933',\n",
       "               '2023-03-04 08:45:46.643882626',\n",
       "               '2023-02-25 23:34:39.375134739',\n",
       "               '2023-01-01 16:52:00.585308829',\n",
       "               '2022-12-23 03:04:20.851623693',\n",
       "               '2022-11-06 05:41:14.194632027',\n",
       "               '2022-08-15 18:08:07.013861109',\n",
       "               '2022-08-03 04:48:38.208648864',\n",
       "               '2022-06-14 01:55:03.192593347',\n",
       "               '2022-06-11 03:22:54.723452237',\n",
       "               '2022-05-13 13:33:00.040427223',\n",
       "               '2022-05-01 08:46:19.894691370',\n",
       "               '2022-04-27 20:42:53.276744835',\n",
       "               '2022-04-13 00:52:43.857263640',\n",
       "               '2022-03-23 22:29:10.057334796',\n",
       "               '2022-03-08 20:44:18.997046448',\n",
       "               '2022-02-16 18:27:02.914365858'],\n",
       "              dtype='datetime64[ns]', freq=None)"
      ]
     },
     "execution_count": 5,
     "metadata": {},
     "output_type": "execute_result"
    }
   ],
   "source": [
    "rate = 20 # average number of events per year\n",
    "size = 20\n",
    "# stable, shift, breakdown\n",
    "\n",
    "z = np.random.exponential(1./rate, size=size)*365\n",
    "print(f'mean: {np.mean(z)}')\n",
    "print(f'max: {np.max(z)}')\n",
    "print(f'min: {np.min(z)}')\n",
    "print(f'std: {np.std(z)}')\n",
    "df = pd.Timestamp('today').normalize() - pd.to_timedelta(24*60*60*np.cumsum(z), unit='s')\n",
    "df"
   ]
  },
  {
   "cell_type": "code",
   "execution_count": 6,
   "id": "0d3e917c-4beb-42ce-a20f-5fa3e5704b54",
   "metadata": {
    "tags": []
   },
   "outputs": [],
   "source": [
    "from ServiceNowFaker import simulateArrivals, generateMajorIncident\n",
    "simulateArrivals(20,20)\n",
    "\n",
    "majorIncident = generateMajorIncident()"
   ]
  },
  {
   "cell_type": "code",
   "execution_count": 7,
   "id": "1caae135-0538-4dab-82f0-ba0fa4152046",
   "metadata": {
    "tags": []
   },
   "outputs": [
    {
     "data": {
      "text/plain": [
       "{'records': [{'promoted_by': '',\n",
       "   'parent': '',\n",
       "   'caused_by': '',\n",
       "   'watch_list': '',\n",
       "   'upon_reject': 'cancel',\n",
       "   'sys_updated_on': '2023-05-12 12:12:39',\n",
       "   'origin_table': '',\n",
       "   'approval_history': '',\n",
       "   'number': 'INC0000507',\n",
       "   'proposed_by': '',\n",
       "   'lessons_learned': '',\n",
       "   'state': '6',\n",
       "   'sys_created_by': 'admin',\n",
       "   'knowledge': 'false',\n",
       "   'order': '',\n",
       "   '__status': 'success',\n",
       "   'cmdb_ci': '3a726a31c0a8ce0100902bd28760693f',\n",
       "   'delivery_plan': '',\n",
       "   'contract': '',\n",
       "   'impact': '1',\n",
       "   'active': 'true',\n",
       "   'work_notes_list': '',\n",
       "   'priority': '1',\n",
       "   'sys_domain_path': '/',\n",
       "   'business_duration': '1970-01-01 01:18:24',\n",
       "   'group_list': '',\n",
       "   'approval_set': '',\n",
       "   'major_incident_state': 'accepted',\n",
       "   'universal_request': '',\n",
       "   'short_description': 'SAP Controlling app down?',\n",
       "   'correlation_display': '',\n",
       "   'delivery_task': '',\n",
       "   'work_start': '',\n",
       "   'trigger_rule': '',\n",
       "   'additional_assignee_list': '',\n",
       "   'notify': '1',\n",
       "   'service_offering': '',\n",
       "   'sys_class_name': 'incident',\n",
       "   'closed_by': '',\n",
       "   'follow_up': '',\n",
       "   'parent_incident': '',\n",
       "   'reopened_by': '',\n",
       "   'reassignment_count': '1',\n",
       "   'assigned_to': '39e9ebb33b08030050bec9bb34efc43c',\n",
       "   'sla_due': '',\n",
       "   'comments_and_work_notes': '',\n",
       "   'escalation': '0',\n",
       "   'upon_approval': 'proceed',\n",
       "   'correlation_id': '',\n",
       "   'timeline': '',\n",
       "   'made_sla': 'true',\n",
       "   'promoted_on': '',\n",
       "   'child_incidents': '0',\n",
       "   'hold_reason': '',\n",
       "   'task_effective_number': 'INC0000507',\n",
       "   'resolved_by': '5137153cc611227c000bbd1bd8cd2007',\n",
       "   'sys_updated_by': 'admin',\n",
       "   'opened_by': '6816f79cc0a8016401c5a33be04be441',\n",
       "   'user_input': '',\n",
       "   'sys_created_on': '2017-09-15 22:42:43',\n",
       "   'sys_domain': 'global',\n",
       "   'proposed_on': '',\n",
       "   'actions_taken': '',\n",
       "   'route_reason': '',\n",
       "   'calendar_stc': '8342',\n",
       "   'closed_at': '',\n",
       "   'business_service': '26e46e5b0a0a0bb4005d1146846c429c',\n",
       "   'business_impact': 'All users of SAP controlling app experiencing outage',\n",
       "   'rfc': '',\n",
       "   'time_worked': '',\n",
       "   'expected_start': '',\n",
       "   'opened_at': '2017-09-15 22:41:36',\n",
       "   'work_end': '',\n",
       "   'caller_id': 'aa826bf03710200044e0bfc8bcbe5dd6',\n",
       "   'reopened_time': '',\n",
       "   'resolved_at': '2017-09-16 01:00:38',\n",
       "   'subcategory': '',\n",
       "   'work_notes': '',\n",
       "   'close_code': 'Solved (Permanently)',\n",
       "   'assignment_group': 'e45d9ebc3b333200fe02c9bb34efc434',\n",
       "   'business_stc': '4704',\n",
       "   'cause': 'Failure to connect to app server',\n",
       "   'description': \"Our entire team can't access the SAP controlling app.  Is there an outage?\",\n",
       "   'origin_id': '',\n",
       "   'calendar_duration': '1970-01-01 02:19:02',\n",
       "   'close_notes': 'Identified cause as failure to connect to app server. Remedied connection to server.',\n",
       "   'sys_id': '47257c64a5954300964fa3aa92874193',\n",
       "   'contact_type': 'phone',\n",
       "   'incident_state': '6',\n",
       "   'urgency': '1',\n",
       "   'problem_id': '',\n",
       "   'company': '227cdfb03710200044e0bfc8bcbe5d6b',\n",
       "   'activity_due': '2017-09-16 00:42:43',\n",
       "   'severity': '3',\n",
       "   'overview': '',\n",
       "   'comments': '',\n",
       "   'approval': 'not requested',\n",
       "   'due_date': '',\n",
       "   'sys_mod_count': '5',\n",
       "   'reopen_count': '0',\n",
       "   'sys_tags': '',\n",
       "   'location': '',\n",
       "   'category': 'software'}]}"
      ]
     },
     "execution_count": 7,
     "metadata": {},
     "output_type": "execute_result"
    }
   ],
   "source": [
    "majorIncident"
   ]
  },
  {
   "cell_type": "code",
   "execution_count": null,
   "id": "fe451ab4-4539-40ba-ace2-5c9b18b1f6e3",
   "metadata": {},
   "outputs": [],
   "source": []
  }
 ],
 "metadata": {
  "kernelspec": {
   "display_name": "Python 3 (ipykernel)",
   "language": "python",
   "name": "python3"
  },
  "language_info": {
   "codemirror_mode": {
    "name": "ipython",
    "version": 3
   },
   "file_extension": ".py",
   "mimetype": "text/x-python",
   "name": "python",
   "nbconvert_exporter": "python",
   "pygments_lexer": "ipython3",
   "version": "3.10.9"
  }
 },
 "nbformat": 4,
 "nbformat_minor": 5
}
