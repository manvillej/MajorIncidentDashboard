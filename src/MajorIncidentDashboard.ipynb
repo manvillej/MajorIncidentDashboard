{
 "cells": [
  {
   "cell_type": "code",
   "execution_count": 1,
   "id": "c283dcc2-586d-4763-a49c-c401c772b3b2",
   "metadata": {
    "tags": []
   },
   "outputs": [],
   "source": [
    "from ServiceNowData import ServiceNowHTTPXClient\n",
    "\n",
    "import pandas as pd\n",
    "import numpy as np\n",
    "import matplotlib.pyplot as plt\n",
    "from IPython.display import display"
   ]
  },
  {
   "cell_type": "code",
   "execution_count": 2,
   "id": "f0a8ef17-763e-4619-939f-f18ce027b8af",
   "metadata": {
    "tags": []
   },
   "outputs": [
    {
     "name": "stderr",
     "output_type": "stream",
     "text": [
      "Request: GET https://dev85509.service-now.com/api/now/table/incident?sysparm_query=ORDERBYDESCopened_at&sysparm_limit=1\n",
      "Response: 200 GET https://dev85509.service-now.com/api/now/table/incident?sysparm_query=ORDERBYDESCopened_at&sysparm_limit=1\n"
     ]
    }
   ],
   "source": [
    "client = ServiceNowHTTPXClient()\n",
    "response = client.healthCheck() # always run to make sure the instance is awake"
   ]
  },
  {
   "cell_type": "code",
   "execution_count": 3,
   "id": "4adc1ac5-f037-4bb9-8251-e1e4422bd772",
   "metadata": {
    "tags": []
   },
   "outputs": [
    {
     "name": "stderr",
     "output_type": "stream",
     "text": [
      "Request: GET https://dev85509.service-now.com/api/now/table/incident?sysparm_query=major_incident_state%3Daccepted&sysparm_display_value=true&sysparm_exclude_reference_link=true&sysparm_fields=number%2Cresolved_by%2Cshort_description%2Cdescription%2Cpriority%2Cimpact%2Curgency%2Cclosed_by%2Cclose_notes%2Cstate%2Ccategory%2Cmajor_incident_state\n",
      "Response: 200 GET https://dev85509.service-now.com/api/now/table/incident?sysparm_query=major_incident_state%3Daccepted&sysparm_display_value=true&sysparm_exclude_reference_link=true&sysparm_fields=number%2Cresolved_by%2Cshort_description%2Cdescription%2Cpriority%2Cimpact%2Curgency%2Cclosed_by%2Cclose_notes%2Cstate%2Ccategory%2Cmajor_incident_state\n"
     ]
    },
    {
     "data": {
      "text/html": [
       "<div>\n",
       "<style scoped>\n",
       "    .dataframe tbody tr th:only-of-type {\n",
       "        vertical-align: middle;\n",
       "    }\n",
       "\n",
       "    .dataframe tbody tr th {\n",
       "        vertical-align: top;\n",
       "    }\n",
       "\n",
       "    .dataframe thead th {\n",
       "        text-align: right;\n",
       "    }\n",
       "</style>\n",
       "<table border=\"1\" class=\"dataframe\">\n",
       "  <thead>\n",
       "    <tr style=\"text-align: right;\">\n",
       "      <th></th>\n",
       "      <th>number</th>\n",
       "      <th>short_description</th>\n",
       "      <th>resolved_by</th>\n",
       "      <th>urgency</th>\n",
       "      <th>impact</th>\n",
       "      <th>description</th>\n",
       "      <th>state</th>\n",
       "      <th>priority</th>\n",
       "      <th>category</th>\n",
       "      <th>major_incident_state</th>\n",
       "      <th>close_notes</th>\n",
       "      <th>closed_by</th>\n",
       "    </tr>\n",
       "  </thead>\n",
       "  <tbody>\n",
       "    <tr>\n",
       "      <th>0</th>\n",
       "      <td>INC0000506</td>\n",
       "      <td>SAP HR app is working intermittently</td>\n",
       "      <td></td>\n",
       "      <td>1 - High</td>\n",
       "      <td>1 - High</td>\n",
       "      <td>SAP HR app either times out or loads very, ver...</td>\n",
       "      <td>In Progress</td>\n",
       "      <td>1 - Critical</td>\n",
       "      <td>Inquiry / Help</td>\n",
       "      <td>Accepted</td>\n",
       "      <td></td>\n",
       "      <td></td>\n",
       "    </tr>\n",
       "    <tr>\n",
       "      <th>1</th>\n",
       "      <td>INC0000507</td>\n",
       "      <td>SAP Controlling app down?</td>\n",
       "      <td>David Loo</td>\n",
       "      <td>1 - High</td>\n",
       "      <td>1 - High</td>\n",
       "      <td>Our entire team can't access the SAP controlli...</td>\n",
       "      <td>Resolved</td>\n",
       "      <td>1 - Critical</td>\n",
       "      <td>Software</td>\n",
       "      <td>Accepted</td>\n",
       "      <td>Identified cause as failure to connect to app ...</td>\n",
       "      <td></td>\n",
       "    </tr>\n",
       "    <tr>\n",
       "      <th>2</th>\n",
       "      <td>INC0000505</td>\n",
       "      <td>Email/Exchange server is down</td>\n",
       "      <td></td>\n",
       "      <td>1 - High</td>\n",
       "      <td>1 - High</td>\n",
       "      <td>Email is down.  Been seeing the \"unable to con...</td>\n",
       "      <td>In Progress</td>\n",
       "      <td>1 - Critical</td>\n",
       "      <td>Inquiry / Help</td>\n",
       "      <td>Accepted</td>\n",
       "      <td></td>\n",
       "      <td></td>\n",
       "    </tr>\n",
       "    <tr>\n",
       "      <th>3</th>\n",
       "      <td>INC0000530</td>\n",
       "      <td>Unable to upgrade ClipboardManager tool</td>\n",
       "      <td></td>\n",
       "      <td>3 - Low</td>\n",
       "      <td>3 - Low</td>\n",
       "      <td>Unable to upgrade ClipboardManager tool</td>\n",
       "      <td>New</td>\n",
       "      <td>5 - Planning</td>\n",
       "      <td>Inquiry / Help</td>\n",
       "      <td>Accepted</td>\n",
       "      <td></td>\n",
       "      <td></td>\n",
       "    </tr>\n",
       "    <tr>\n",
       "      <th>4</th>\n",
       "      <td>INC0000930</td>\n",
       "      <td>Unable to downgrade Clipboard Manager tool</td>\n",
       "      <td></td>\n",
       "      <td>3 - Low</td>\n",
       "      <td>3 - Low</td>\n",
       "      <td>Unable to downgrade Clipboard Manager tool</td>\n",
       "      <td>In Progress</td>\n",
       "      <td>5 - Planning</td>\n",
       "      <td>Inquiry / Help</td>\n",
       "      <td>Accepted</td>\n",
       "      <td></td>\n",
       "      <td></td>\n",
       "    </tr>\n",
       "  </tbody>\n",
       "</table>\n",
       "</div>"
      ],
      "text/plain": [
       "       number                           short_description resolved_by  \\\n",
       "0  INC0000506        SAP HR app is working intermittently               \n",
       "1  INC0000507                   SAP Controlling app down?   David Loo   \n",
       "2  INC0000505               Email/Exchange server is down               \n",
       "3  INC0000530     Unable to upgrade ClipboardManager tool               \n",
       "4  INC0000930  Unable to downgrade Clipboard Manager tool               \n",
       "\n",
       "    urgency    impact                                        description  \\\n",
       "0  1 - High  1 - High  SAP HR app either times out or loads very, ver...   \n",
       "1  1 - High  1 - High  Our entire team can't access the SAP controlli...   \n",
       "2  1 - High  1 - High  Email is down.  Been seeing the \"unable to con...   \n",
       "3   3 - Low   3 - Low            Unable to upgrade ClipboardManager tool   \n",
       "4   3 - Low   3 - Low         Unable to downgrade Clipboard Manager tool   \n",
       "\n",
       "         state      priority        category major_incident_state  \\\n",
       "0  In Progress  1 - Critical  Inquiry / Help             Accepted   \n",
       "1     Resolved  1 - Critical        Software             Accepted   \n",
       "2  In Progress  1 - Critical  Inquiry / Help             Accepted   \n",
       "3          New  5 - Planning  Inquiry / Help             Accepted   \n",
       "4  In Progress  5 - Planning  Inquiry / Help             Accepted   \n",
       "\n",
       "                                         close_notes closed_by  \n",
       "0                                                               \n",
       "1  Identified cause as failure to connect to app ...            \n",
       "2                                                               \n",
       "3                                                               \n",
       "4                                                               "
      ]
     },
     "execution_count": 3,
     "metadata": {},
     "output_type": "execute_result"
    }
   ],
   "source": [
    "# grab our major incident data\n",
    "response = client.getData('incident','major_incident_state=accepted', {\n",
    "    'sysparm_display_value':True,\n",
    "    'sysparm_exclude_reference_link':True,\n",
    "    'sysparm_fields':'number,resolved_by,short_description,description,priority,impact,urgency,closed_by,close_notes,state,category,major_incident_state'\n",
    "    })\n",
    "\n",
    "data = response.json()['result']\n",
    "df = pd.DataFrame(data)\n",
    "df.head(5)"
   ]
  },
  {
   "cell_type": "code",
   "execution_count": 4,
   "id": "edfd778f-5884-4eb3-98fb-f20aeae2432d",
   "metadata": {
    "tags": []
   },
   "outputs": [
    {
     "name": "stdout",
     "output_type": "stream",
     "text": [
      "mean: 15.327874131264958\n",
      "max: 65.93515593033428\n",
      "min: 0.5343607927047794\n",
      "std: 16.440591642564048\n"
     ]
    },
    {
     "data": {
      "text/plain": [
       "DatetimeIndex(['2023-04-20 14:19:32.856329579',\n",
       "               '2023-04-03 23:12:05.401920111',\n",
       "               '2023-04-01 03:38:32.437971776',\n",
       "               '2023-03-17 03:46:45.869067930',\n",
       "               '2023-03-16 14:57:17.096578238',\n",
       "               '2023-02-22 11:46:35.181121424',\n",
       "               '2022-12-18 13:19:57.708740542',\n",
       "               '2022-12-11 19:12:18.940817459',\n",
       "               '2022-11-17 04:40:57.877402805',\n",
       "               '2022-11-03 23:45:54.941918060',\n",
       "               '2022-09-30 14:20:23.451706607',\n",
       "               '2022-09-20 10:21:53.819251064',\n",
       "               '2022-08-11 06:03:25.304021850',\n",
       "               '2022-08-09 23:03:42.709777109',\n",
       "               '2022-08-03 17:25:57.310264986',\n",
       "               '2022-07-31 15:51:53.298268773',\n",
       "               '2022-07-25 21:07:20.578594588',\n",
       "               '2022-07-24 01:02:31.603614945',\n",
       "               '2022-07-19 15:34:56.205251813',\n",
       "               '2022-07-18 10:37:13.501174148'],\n",
       "              dtype='datetime64[ns]', freq=None)"
      ]
     },
     "execution_count": 4,
     "metadata": {},
     "output_type": "execute_result"
    }
   ],
   "source": [
    "rate = 20 # average number of events per year\n",
    "size = 20\n",
    "# stable, shift, breakdown\n",
    "\n",
    "z = np.random.exponential(1./rate, size=size)*365\n",
    "print(f'mean: {np.mean(z)}')\n",
    "print(f'max: {np.max(z)}')\n",
    "print(f'min: {np.min(z)}')\n",
    "print(f'std: {np.std(z)}')\n",
    "df = pd.Timestamp('today').normalize() - pd.to_timedelta(24*60*60*np.cumsum(z), unit='s')\n",
    "df"
   ]
  },
  {
   "cell_type": "code",
   "execution_count": 5,
   "id": "0d3e917c-4beb-42ce-a20f-5fa3e5704b54",
   "metadata": {
    "tags": []
   },
   "outputs": [
    {
     "data": {
      "text/plain": [
       "DatetimeIndex(['2023-04-26 14:46:04.711184112',\n",
       "               '2023-04-22 02:25:17.843435635',\n",
       "               '2023-04-17 04:33:06.326981356',\n",
       "               '2023-03-24 04:12:22.402238746',\n",
       "               '2023-03-23 07:01:36.905766325',\n",
       "               '2023-02-24 13:56:37.931085349',\n",
       "               '2023-01-31 19:04:18.596797265',\n",
       "               '2023-01-28 08:50:35.920789801',\n",
       "               '2022-12-10 04:23:25.001710910',\n",
       "               '2022-11-09 12:12:40.760502269',\n",
       "               '2022-10-29 06:48:17.751850232',\n",
       "               '2022-10-26 16:59:01.203025244',\n",
       "               '2022-10-09 20:04:49.817834448',\n",
       "               '2022-10-08 23:45:35.891787425',\n",
       "               '2022-10-04 16:17:02.113674175',\n",
       "               '2022-09-27 11:51:25.385775823',\n",
       "               '2022-08-31 17:51:25.988978889',\n",
       "               '2022-07-25 07:41:29.666499350',\n",
       "               '2022-07-20 09:21:57.269767221',\n",
       "               '2022-07-18 02:42:21.081033211'],\n",
       "              dtype='datetime64[ns]', freq=None)"
      ]
     },
     "execution_count": 5,
     "metadata": {},
     "output_type": "execute_result"
    }
   ],
   "source": [
    "from ServiceNowFaker import simulateArrivals\n",
    "simulateArrivals(20,20)\n"
   ]
  }
 ],
 "metadata": {
  "kernelspec": {
   "display_name": "Python 3 (ipykernel)",
   "language": "python",
   "name": "python3"
  },
  "language_info": {
   "codemirror_mode": {
    "name": "ipython",
    "version": 3
   },
   "file_extension": ".py",
   "mimetype": "text/x-python",
   "name": "python",
   "nbconvert_exporter": "python",
   "pygments_lexer": "ipython3",
   "version": "3.10.9"
  }
 },
 "nbformat": 4,
 "nbformat_minor": 5
}
